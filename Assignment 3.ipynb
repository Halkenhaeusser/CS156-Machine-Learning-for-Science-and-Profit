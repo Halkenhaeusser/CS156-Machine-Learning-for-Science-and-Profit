{
 "cells": [
  {
   "cell_type": "markdown",
   "metadata": {},
   "source": [
    "# Assignment 3 - RBFs and LPMs\n",
    "# Johannes M. Halkenhaeusser\n",
    "# Minerva Schools at KGI\n",
    "# CS156 - Prof. Sterne\n",
    "# Spring 2020"
   ]
  },
  {
   "cell_type": "code",
   "execution_count": 32,
   "metadata": {},
   "outputs": [],
   "source": [
    "from sklearn.metrics.pairwise import rbf_kernel\n",
    "from sklearn.linear_model import Ridge\n",
    "import matplotlib.pyplot as plt\n",
    "import sklearn.linear_model as linear_model\n",
    "import numpy as np\n",
    "import pandas as pd\n",
    "\n",
    "from datetime import datetime\n",
    "import time"
   ]
  },
  {
   "cell_type": "code",
   "execution_count": 19,
   "metadata": {},
   "outputs": [],
   "source": [
    "###Adapted from 3.1 PCW code\n",
    "\n",
    "years = range(2011, 2017)\n",
    "files = ['CRNS0101-05-%d-CA_Yosemite_Village_12_W.txt' % y for y in years]\n",
    "\n",
    "#I use the LST not the UTC because this will give us more insight into the actual time of day\n",
    "usecols = [3, 4, 8]\n",
    "\n",
    "data = [np.loadtxt(f, usecols=usecols) for f in files]\n",
    "data = np.vstack(data)"
   ]
  },
  {
   "cell_type": "code",
   "execution_count": 12,
   "metadata": {},
   "outputs": [],
   "source": [
    "#convert to data frame that is easier to work with\n",
    "df = pd.DataFrame(data, columns = ['day_raw', 'minute_raw', 'temp'])"
   ]
  },
  {
   "cell_type": "code",
   "execution_count": 13,
   "metadata": {},
   "outputs": [],
   "source": [
    "# Map from YYYYMMDD to day of year\n",
    "df['year'] = [datetime.strptime(str(int(i)),'%Y%m%d').timetuple().tm_year for i in df['day_raw']]\n",
    "df['day'] = [datetime.strptime(str(int(i)),'%Y%m%d').timetuple().tm_yday for i in df['day_raw']]\n",
    "# Map from HHmm to an integer\n",
    "df['min'] = np.floor_divide(df['minute_raw'], 100) * 60 + np.mod(df['minute_raw'], 100)"
   ]
  },
  {
   "cell_type": "code",
   "execution_count": 14,
   "metadata": {},
   "outputs": [],
   "source": [
    "#there are some strange outlier values at -1000 degrees.\n",
    "df = df[df['temp']> -1000]\n",
    "#split into training and test\n",
    "train = df[df['year'] < 2016]\n",
    "test = df[df['year'] >= 2016]"
   ]
  },
  {
   "cell_type": "code",
   "execution_count": 15,
   "metadata": {},
   "outputs": [
    {
     "name": "stdout",
     "output_type": "stream",
     "text": [
      "[1e-08, 1e-07, 1e-06, 1e-05, 0.0001, 0.001, 0.01, 0.1, 1, 10]\n"
     ]
    }
   ],
   "source": [
    "#set up some alphas for the CV Ridge regression\n",
    "alphas = [10**i for i in range(-8,2,1)]\n",
    "print(alphas)"
   ]
  },
  {
   "cell_type": "code",
   "execution_count": 16,
   "metadata": {},
   "outputs": [],
   "source": [
    "#convert the data frame into arrays\n",
    "x_day = np.asarray(train['day']).reshape(-1,1)\n",
    "x_time = np.asarray(train['min']).reshape(-1,1)\n",
    "y_s = np.asarray(train['temp']).reshape(-1, 1)"
   ]
  },
  {
   "cell_type": "code",
   "execution_count": 20,
   "metadata": {},
   "outputs": [
    {
     "name": "stdout",
     "output_type": "stream",
     "text": [
      "Score on training data =  0.03132506169887184\n"
     ]
    }
   ],
   "source": [
    "#see the baseline R^2 we are working with for the yearly\n",
    "\n",
    "my_reg_yearly =  linear_model.RidgeCV(alphas = alphas)\n",
    "my_reg_yearly.fit(x_day, y_s)\n",
    "print(\"Score on training data = \", my_reg_yearly.score(x_day, y_s))"
   ]
  },
  {
   "cell_type": "code",
   "execution_count": 25,
   "metadata": {},
   "outputs": [
    {
     "data": {
      "text/plain": [
       "<matplotlib.collections.PathCollection at 0x7fcce9004cf8>"
      ]
     },
     "execution_count": 25,
     "metadata": {},
     "output_type": "execute_result"
    },
    {
     "data": {
      "image/png": "[encoded data removed]",
      "text/plain": [
       "<Figure size 432x288 with 1 Axes>"
      ]
     },
     "metadata": {
      "needs_background": "light"
     },
     "output_type": "display_data"
    }
   ],
   "source": [
    "plt.scatter(x_day, y_s)"
   ]
  },
  {
   "cell_type": "code",
   "execution_count": 26,
   "metadata": {},
   "outputs": [
    {
     "name": "stdout",
     "output_type": "stream",
     "text": [
      "Score on training data =  -1.234571644388005\n"
     ]
    }
   ],
   "source": [
    "#see the baseline R^2 we are working with for the day\n",
    "my_reg_daily =  linear_model.RidgeCV(alphas = alphas)\n",
    "my_reg_daily.fit(x_day, y_s)\n",
    "print(\"Score on training data = \", my_reg_daily.score(x_time, y_s))"
   ]
  },
  {
   "cell_type": "code",
   "execution_count": 27,
   "metadata": {},
   "outputs": [
    {
     "name": "stdout",
     "output_type": "stream",
     "text": [
      "Score on training data =  0.0016948111846561975\n"
     ]
    },
    {
     "data": {
      "image/png": "[encoded data removed]",
      "text/plain": [
       "<Figure size 432x288 with 1 Axes>"
      ]
     },
     "metadata": {
      "needs_background": "light"
     },
     "output_type": "display_data"
    }
   ],
   "source": [
    "plt.scatter(x_time, y_s)\n",
    "my_reg_daily =  linear_model.RidgeCV(alphas = alphas)\n",
    "my_reg_daily.fit(x_time, y_s)\n",
    "print(\"Score on training data = \", my_reg_daily.score(x_time, y_s))"
   ]
  },
  {
   "cell_type": "code",
   "execution_count": 28,
   "metadata": {},
   "outputs": [
    {
     "name": "stdout",
     "output_type": "stream",
     "text": [
      "Score on training data =  -0.6427579914852715\n"
     ]
    }
   ],
   "source": [
    "my_reg_both =  linear_model.RidgeCV(alphas = alphas)\n",
    "combined_data = np.concatenate((x_time, x_day), axis = 1)\n",
    "my_reg_both.fit(combined_data, y_s)\n",
    "print(\"Score on training data = \", my_reg_both.score(combined_data, y_s))"
   ]
  },
  {
   "cell_type": "markdown",
   "metadata": {},
   "source": [
    "As shown in the R^2 scores here, all 3 models are horrible right now. "
   ]
  },
  {
   "cell_type": "markdown",
   "metadata": {},
   "source": [
    "## Building the Models on the Training Data"
   ]
  },
  {
   "cell_type": "code",
   "execution_count": 29,
   "metadata": {},
   "outputs": [],
   "source": [
    "## This function cross validates between the different centers and sigmas\n",
    "\n",
    "def cross_val_RBFs(x_data, y_data, centers_numbers):\n",
    "    \n",
    "    no_trials = len(centers_numbers)*len(list(range(-3,7)))\n",
    "    tab = np.zeros((no_trials, 3))\n",
    "    trial = -1\n",
    "    \n",
    "    #loop through the different center numbers\n",
    "    for no_centers in centers_numbers:\n",
    "        \n",
    "        \n",
    "        #divide the data in the number of centers\n",
    "        centers = np.linspace(min(x_data), max(x_data), no_centers)\n",
    "    \n",
    "        for exp in list(range(-2,6)):\n",
    "            \n",
    "            trial += 1\n",
    "            \n",
    "            \n",
    "            #get a sigma (notice it being on log-scale)\n",
    "            sigma = 10**exp\n",
    "            \n",
    "            #calculate the RBF(x) for each input\n",
    "            x_data_rbf = rbf_kernel(x_data, centers, gamma=1 / sigma)\n",
    "\n",
    "            #fit the regression\n",
    "            my_reg_rbf =  linear_model.RidgeCV(alphas = alphas)\n",
    "            my_reg_rbf.fit(x_data_rbf, y_data)\n",
    "            \n",
    "            \n",
    "            #get an r-score\n",
    "            r_score_new = my_reg_rbf.score(x_data_rbf, y_data)\n",
    "\n",
    "            print(f\"sigma of {sigma} has R^2 of: {r_score_new}\")\n",
    "            \n",
    "            #record the outcome\n",
    "            tab[trial] = no_centers, sigma, r_score_new\n",
    "        \n",
    "    return tab"
   ]
  },
  {
   "cell_type": "markdown",
   "metadata": {},
   "source": [
    "### Variation Across a year."
   ]
  },
  {
   "cell_type": "code",
   "execution_count": 30,
   "metadata": {
    "scrolled": true
   },
   "outputs": [
    {
     "name": "stdout",
     "output_type": "stream",
     "text": [
      "sigma of 0.01 has R^2 of: 0.013899645080289846\n",
      "sigma of 0.1 has R^2 of: 0.019646890117155702\n",
      "sigma of 1 has R^2 of: 0.04099314234047102\n",
      "sigma of 10 has R^2 of: 0.12536138621421322\n",
      "sigma of 100 has R^2 of: 0.4083363959637405\n",
      "sigma of 1000 has R^2 of: 0.5699487111192437\n",
      "sigma of 10000 has R^2 of: 0.5678177942324645\n",
      "sigma of 100000 has R^2 of: 0.5676446749708279\n",
      "sigma of 0.01 has R^2 of: 0.06428257495021661\n",
      "sigma of 0.1 has R^2 of: 0.09970713417537203\n",
      "sigma of 1 has R^2 of: 0.2171264753610188\n",
      "sigma of 10 has R^2 of: 0.5688317769746241\n",
      "sigma of 100 has R^2 of: 0.5909739492996331\n",
      "sigma of 1000 has R^2 of: 0.5827671136344141\n",
      "sigma of 10000 has R^2 of: 0.5521574797086388\n",
      "sigma of 100000 has R^2 of: 0.5659405111957692\n",
      "sigma of 0.01 has R^2 of: 0.5607872802014501\n",
      "sigma of 0.1 has R^2 of: 0.6214092996209652\n",
      "sigma of 1 has R^2 of: 0.6213979982707742\n",
      "sigma of 10 has R^2 of: 0.6205935113983169\n",
      "sigma of 100 has R^2 of: 0.5481678712932867\n",
      "sigma of 1000 has R^2 of: -3.568200077194253\n",
      "sigma of 10000 has R^2 of: -27.032403556358304\n",
      "sigma of 100000 has R^2 of: 0.5590152383739952\n"
     ]
    }
   ],
   "source": [
    "#testing the RBF filters with monthly, weekly, and daily centers. \n",
    "\n",
    "out = cross_val_RBFs(x_day, y_s, [12, 52, 365])"
   ]
  },
  {
   "cell_type": "code",
   "execution_count": 31,
   "metadata": {},
   "outputs": [
    {
     "name": "stdout",
     "output_type": "stream",
     "text": [
      "[3.650000e+02 1.000000e-01 6.214093e-01]\n"
     ]
    }
   ],
   "source": [
    "#the holy grail (i.e. the best combination of centers and sigmas I have found)\n",
    "best_spec = out[:,2].argmax()\n",
    "print(out[best_spec])\n",
    "no_cen_best = out[best_spec][0]\n",
    "sigma_best = out[best_spec][1]"
   ]
  },
  {
   "cell_type": "markdown",
   "metadata": {},
   "source": [
    "The R^2 for day of the year is 0.6214093. \n",
    "We get this R^2 when we use a center per day with a sigma of 0.1."
   ]
  },
  {
   "cell_type": "code",
   "execution_count": 34,
   "metadata": {},
   "outputs": [
    {
     "name": "stderr",
     "output_type": "stream",
     "text": [
      "//anaconda3/lib/python3.7/site-packages/ipykernel_launcher.py:3: DeprecationWarning: object of type <class 'numpy.float64'> cannot be safely interpreted as an integer.\n",
      "  This is separate from the ipykernel package so we can avoid doing imports until\n"
     ]
    },
    {
     "name": "stdout",
     "output_type": "stream",
     "text": [
      "It took 46.73881912231445 seconds to train this model\n"
     ]
    }
   ],
   "source": [
    "## Represent the variation explained by the yearly component\n",
    "\n",
    "centers = np.linspace(min(x_day), max(x_day), no_cen_best)\n",
    "x_data_rbf = rbf_kernel(x_day, centers, gamma=1 / sigma_best)\n",
    "\n",
    "#fit the regression\n",
    "my_reg_rbf =  linear_model.RidgeCV(alphas = alphas)\n",
    "\n",
    "start = time.time()\n",
    "my_reg_rbf.fit(x_data_rbf, y_s)\n",
    "\n",
    "\n",
    "print(\"It took\", time.time() - start, \"seconds to train this model\")"
   ]
  },
  {
   "cell_type": "code",
   "execution_count": 35,
   "metadata": {},
   "outputs": [],
   "source": [
    "#Get 365 days for the entire year\n",
    "fake_days = np.asarray(list(range(366))).reshape(-1,1)\n",
    "fake_days_rbf = rbf_kernel(fake_days, centers, gamma=1/sigma_best)\n",
    "\n",
    "y_hat = my_reg_rbf.predict(fake_days_rbf)"
   ]
  },
  {
   "cell_type": "code",
   "execution_count": 36,
   "metadata": {},
   "outputs": [
    {
     "data": {
      "text/plain": [
       "Text(0, 0.5, 'Temperature')"
      ]
     },
     "execution_count": 36,
     "metadata": {},
     "output_type": "execute_result"
    },
    {
     "data": {
      "image/png": "[encoded data removed]",
      "text/plain": [
       "<Figure size 432x288 with 1 Axes>"
      ]
     },
     "metadata": {
      "needs_background": "light"
     },
     "output_type": "display_data"
    }
   ],
   "source": [
    "plt.plot(fake_days, y_hat)\n",
    "plt.title(\"Variation over the days of the year\")\n",
    "plt.xlabel(\"Day of the year\")\n",
    "plt.ylabel(\"Temperature\")"
   ]
  },
  {
   "cell_type": "markdown",
   "metadata": {},
   "source": [
    "#### Note: There seems to be some overfitting here. This makes sense because there are a lot of centers. "
   ]
  },
  {
   "cell_type": "markdown",
   "metadata": {},
   "source": [
    "### Variation Across a day."
   ]
  },
  {
   "cell_type": "code",
   "execution_count": 37,
   "metadata": {},
   "outputs": [
    {
     "name": "stdout",
     "output_type": "stream",
     "text": [
      "sigma of 0.01 has R^2 of: 0.00040440598697522034\n",
      "sigma of 0.1 has R^2 of: 0.0016859826840808223\n",
      "sigma of 1 has R^2 of: 0.0037958314423880424\n",
      "sigma of 10 has R^2 of: 0.005854894598718685\n",
      "sigma of 100 has R^2 of: 0.017907390845124604\n",
      "sigma of 1000 has R^2 of: 0.04389961510788376\n",
      "sigma of 10000 has R^2 of: 0.0445354603580953\n",
      "sigma of 100000 has R^2 of: 0.04452278016275024\n",
      "sigma of 0.01 has R^2 of: 0.0012020104898856632\n",
      "sigma of 0.1 has R^2 of: 0.0036363379687854858\n",
      "sigma of 1 has R^2 of: 0.007678649638708013\n",
      "sigma of 10 has R^2 of: 0.011865999629904755\n",
      "sigma of 100 has R^2 of: 0.03585304032251335\n",
      "sigma of 1000 has R^2 of: 0.04453521343306144\n",
      "sigma of 10000 has R^2 of: 0.0445355505490751\n",
      "sigma of 100000 has R^2 of: 0.04452163639823015\n",
      "sigma of 0.01 has R^2 of: 0.04453507059419237\n",
      "sigma of 0.1 has R^2 of: 0.04453507059419237\n",
      "sigma of 1 has R^2 of: 0.044535070594192594\n",
      "sigma of 10 has R^2 of: 0.044535670797806626\n",
      "sigma of 100 has R^2 of: 0.04453608328817693\n",
      "sigma of 1000 has R^2 of: 0.04453595563716062\n",
      "sigma of 10000 has R^2 of: 0.044535638365080676\n",
      "sigma of 100000 has R^2 of: 0.04452283530811352\n"
     ]
    }
   ],
   "source": [
    "#testing RBF params for hourly, half-hour, and 5 minute centers\n",
    "\n",
    "#The centers of the inputs of the RBF-filters for the time of day should be roughly every 5 minutes,\n",
    "#because the time interval the measurements were taken was 5 minutes. \n",
    "\n",
    "out_daily_variation = cross_val_RBFs(x_time, y_s, [24, 48, 12*24])"
   ]
  },
  {
   "cell_type": "code",
   "execution_count": 38,
   "metadata": {},
   "outputs": [
    {
     "name": "stdout",
     "output_type": "stream",
     "text": [
      "[2.88000000e+02 1.00000000e+02 4.45360833e-02]\n"
     ]
    }
   ],
   "source": [
    "#the holy grail (i.e. the best combination of centers and sigmas I have found)\n",
    "best_spec_day = out_daily_variation[:,2].argmax()\n",
    "print(out_daily_variation[best_spec_day])\n",
    "no_cen_best_day = out_daily_variation[best_spec_day][0]\n",
    "sigma_best_day = out_daily_variation[best_spec_day][1]"
   ]
  },
  {
   "cell_type": "markdown",
   "metadata": {},
   "source": [
    "The minutes during the day variation has an R^2 of: 4.45360833e-02\n",
    "I.e. When in the day is less predictive than the day of the year. \n",
    "We get this when we use a 5 minute interval as center and a sigma of 10."
   ]
  },
  {
   "cell_type": "code",
   "execution_count": 40,
   "metadata": {},
   "outputs": [
    {
     "name": "stderr",
     "output_type": "stream",
     "text": [
      "//anaconda3/lib/python3.7/site-packages/ipykernel_launcher.py:1: DeprecationWarning: object of type <class 'numpy.float64'> cannot be safely interpreted as an integer.\n",
      "  \"\"\"Entry point for launching an IPython kernel.\n"
     ]
    },
    {
     "name": "stdout",
     "output_type": "stream",
     "text": [
      "It took 35.68368887901306 seconds to train this model\n"
     ]
    }
   ],
   "source": [
    "centers_day = np.linspace(min(x_time), max(x_time), no_cen_best_day)\n",
    "x_data_rbf_day = rbf_kernel(x_time, centers_day, gamma=1 / sigma_best_day)\n",
    "\n",
    "#fit the regression\n",
    "my_reg_rbf_day =  linear_model.RidgeCV(alphas = alphas)\n",
    "\n",
    "\n",
    "start_day = time.time()\n",
    "my_reg_rbf_day.fit(x_data_rbf_day, y_s)\n",
    "print(\"It took\", time.time() - start_day, \"seconds to train this model\")"
   ]
  },
  {
   "cell_type": "code",
   "execution_count": 41,
   "metadata": {},
   "outputs": [],
   "source": [
    "#Get 365 days for the entire year\n",
    "fake_minutes = np.asarray(list(range(24*60))).reshape(-1,1)\n",
    "fake_minutes_rbf = rbf_kernel(fake_minutes, centers_day, gamma=1/sigma_best_day)\n",
    "\n",
    "y_hat_minutes = my_reg_rbf_day.predict(fake_minutes_rbf)"
   ]
  },
  {
   "cell_type": "code",
   "execution_count": 42,
   "metadata": {},
   "outputs": [
    {
     "data": {
      "text/plain": [
       "Text(0, 0.5, 'Temperature')"
      ]
     },
     "execution_count": 42,
     "metadata": {},
     "output_type": "execute_result"
    },
    {
     "data": {
      "image/png": "[encoded data removed]",
      "text/plain": [
       "<Figure size 432x288 with 1 Axes>"
      ]
     },
     "metadata": {
      "needs_background": "light"
     },
     "output_type": "display_data"
    }
   ],
   "source": [
    "plt.plot(fake_minutes, y_hat_minutes)\n",
    "plt.title(\"Variation over the minutes of the day\")\n",
    "plt.xlabel(\"Minute of the day\")\n",
    "plt.ylabel(\"Temperature\")"
   ]
  },
  {
   "cell_type": "markdown",
   "metadata": {},
   "source": [
    "### Train the full model"
   ]
  },
  {
   "cell_type": "code",
   "execution_count": 43,
   "metadata": {},
   "outputs": [
    {
     "name": "stdout",
     "output_type": "stream",
     "text": [
      "It took 88.7944929599762 seconds to train this model\n"
     ]
    }
   ],
   "source": [
    "### Now that I have chosen the best specification to explain either variation let's see how the full model does. \n",
    "all_rbfs = np.concatenate((x_data_rbf, x_data_rbf_day), axis = 1)\n",
    "\n",
    "full_model = linear_model.RidgeCV(alphas = alphas)\n",
    "\n",
    "start_full = time.time()\n",
    "full_model.fit(all_rbfs, y_s)\n",
    "print(\"It took\", time.time() - start_full, \"seconds to train this model\")"
   ]
  },
  {
   "cell_type": "code",
   "execution_count": 44,
   "metadata": {},
   "outputs": [
    {
     "data": {
      "text/plain": [
       "0.6660796647992566"
      ]
     },
     "execution_count": 44,
     "metadata": {},
     "output_type": "execute_result"
    }
   ],
   "source": [
    "full_model.score(all_rbfs, y_s)"
   ]
  },
  {
   "cell_type": "markdown",
   "metadata": {},
   "source": [
    "Yay! The combination of the two variations explains more variation than just using a single one.\n",
    "This we should expect because we are combining our knowledge of both models. "
   ]
  },
  {
   "cell_type": "markdown",
   "metadata": {},
   "source": [
    "## Evaluate against Test Set"
   ]
  },
  {
   "cell_type": "code",
   "execution_count": 45,
   "metadata": {},
   "outputs": [
    {
     "data": {
      "text/plain": [
       "0.5582328931945117"
      ]
     },
     "execution_count": 45,
     "metadata": {},
     "output_type": "execute_result"
    }
   ],
   "source": [
    "x_day_test = np.asarray(test['day']).reshape(-1,1)\n",
    "x_time_test = np.asarray(test['min']).reshape(-1,1)\n",
    "y_s_test = np.asarray(test['temp']).reshape(-1, 1)\n",
    "\n",
    "#Get the RBF\n",
    "test_yearly = rbf_kernel(x_day_test, centers, gamma=1/sigma_best)\n",
    "test_daily = rbf_kernel(x_time_test, centers_day, gamma=1/sigma_best_day)\n",
    "combined = np.concatenate((test_yearly, test_daily), axis = 1)\n",
    "\n",
    "\n",
    "#Test the Models\n",
    "## Note how I am using the models I have developed in the above sections\n",
    "my_reg_rbf.score(test_yearly, y_s_test)\n",
    "my_reg_rbf_day.score(test_daily, y_s_test)\n",
    "full_model.score(combined, y_s_test)"
   ]
  },
  {
   "cell_type": "code",
   "execution_count": 46,
   "metadata": {},
   "outputs": [
    {
     "name": "stdout",
     "output_type": "stream",
     "text": [
      "Using the variation across a year we get a test-data score of: \t 0.5136254186462417\n",
      "Using the variation across a day we get a test-data score of: \t 0.044118278343506456\n",
      "Using the combined model we get a test-data score of: \t\t 0.5582328931945117\n"
     ]
    }
   ],
   "source": [
    "print(f\"Using the variation across a year we get a test-data score of: \\t {my_reg_rbf.score(test_yearly, y_s_test)}\")\n",
    "print(f\"Using the variation across a day we get a test-data score of: \\t {my_reg_rbf_day.score(test_daily, y_s_test)}\")\n",
    "print(f\"Using the combined model we get a test-data score of: \\t\\t {full_model.score(combined, y_s_test)}\")"
   ]
  },
  {
   "cell_type": "markdown",
   "metadata": {},
   "source": [
    "Like before the variation across the year contributes the most to explaining the variation in temperatures. Again combining the sets of RBFs helps us to get an even higher $R^2$. \n",
    "\n",
    "As expected above, the R^2 for the varation across a year drops much more than that across the day (even speaking in relative terms). This makes sense because when we look at how the days across the year explain temperature there is much stronger evidence of overfitting, whereas the variation across the minutes of the day is much smoother.\n",
    "\n",
    "To improve on these scores even further, we could test more center-sigma combinations or use cross validation when deciding the center-sigma combinations. We could also throw more data on the model and include a parameter that accounts for the year that we are talking about (maybe some years are hotter than others). "
   ]
  },
  {
   "cell_type": "code",
   "execution_count": null,
   "metadata": {},
   "outputs": [],
   "source": []
  }
 ],
 "metadata": {
  "kernelspec": {
   "display_name": "Python 3",
   "language": "python",
   "name": "python3"
  },
  "language_info": {
   "codemirror_mode": {
    "name": "ipython",
    "version": 3
   },
   "file_extension": ".py",
   "mimetype": "text/x-python",
   "name": "python",
   "nbconvert_exporter": "python",
   "pygments_lexer": "ipython3",
   "version": "3.7.3"
  }
 },
 "nbformat": 4,
 "nbformat_minor": 2
}
