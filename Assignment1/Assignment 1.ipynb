{
 "cells": [
  {
   "cell_type": "markdown",
   "metadata": {},
   "source": [
    "# Assignment 1\n",
    "# Johannes M. Halkenhaeusser\n",
    "# Minerva Schools at KGI\n",
    "# CS156 - Prof Stern\n",
    "# Spring 2020\n"
   ]
  },
  {
   "cell_type": "code",
   "execution_count": 284,
   "metadata": {},
   "outputs": [],
   "source": [
    "import numpy as np\n",
    "import csv\n",
    "import datetime\n",
    "import re\n",
    "import pandas as pd\n",
    "import math\n",
    "import random as rd\n",
    "import matplotlib.pyplot as plt\n",
    "from sklearn import datasets, linear_model\n",
    "from sklearn.model_selection import train_test_split\n",
    "from sklearn.datasets import load_digits\n",
    "from sklearn.neighbors import KNeighborsClassifier\n",
    "from sklearn.metrics import classification_report, mean_squared_error\n",
    "from datetime import datetime\n",
    "from sklearn.model_selection import cross_val_score\n",
    "import seaborn as sns\n",
    "from sklearn.metrics import confusion_matrix"
   ]
  },
  {
   "cell_type": "markdown",
   "metadata": {},
   "source": [
    "## Moore's Law"
   ]
  },
  {
   "cell_type": "code",
   "execution_count": 489,
   "metadata": {
    "scrolled": true
   },
   "outputs": [
    {
     "name": "stderr",
     "output_type": "stream",
     "text": [
      "//anaconda3/lib/python3.7/site-packages/IPython/core/interactiveshell.py:3057: DtypeWarning: Columns (3) have mixed types. Specify dtype option on import or set low_memory=False.\n",
      "  interactivity=interactivity, compiler=compiler, result=result)\n"
     ]
    },
    {
     "data": {
      "text/html": [
       "<div>\n",
       "<style scoped>\n",
       "    .dataframe tbody tr th:only-of-type {\n",
       "        vertical-align: middle;\n",
       "    }\n",
       "\n",
       "    .dataframe tbody tr th {\n",
       "        vertical-align: top;\n",
       "    }\n",
       "\n",
       "    .dataframe thead th {\n",
       "        text-align: right;\n",
       "    }\n",
       "</style>\n",
       "<table border=\"1\" class=\"dataframe\">\n",
       "  <thead>\n",
       "    <tr style=\"text-align: right;\">\n",
       "      <th></th>\n",
       "      <th>testID</th>\n",
       "      <th>benchName</th>\n",
       "      <th>base</th>\n",
       "      <th>peak</th>\n",
       "    </tr>\n",
       "  </thead>\n",
       "  <tbody>\n",
       "    <tr>\n",
       "      <th>0</th>\n",
       "      <td>cpu95-19990104-03254</td>\n",
       "      <td>101.tomcatv</td>\n",
       "      <td>19.40</td>\n",
       "      <td>27.1</td>\n",
       "    </tr>\n",
       "    <tr>\n",
       "      <th>1</th>\n",
       "      <td>cpu95-19990104-03254</td>\n",
       "      <td>102.swim</td>\n",
       "      <td>27.20</td>\n",
       "      <td>34.8</td>\n",
       "    </tr>\n",
       "    <tr>\n",
       "      <th>2</th>\n",
       "      <td>cpu95-19990104-03254</td>\n",
       "      <td>103.su2cor</td>\n",
       "      <td>10.10</td>\n",
       "      <td>9.98</td>\n",
       "    </tr>\n",
       "    <tr>\n",
       "      <th>3</th>\n",
       "      <td>cpu95-19990104-03254</td>\n",
       "      <td>104.hydro2d</td>\n",
       "      <td>8.58</td>\n",
       "      <td>8.61</td>\n",
       "    </tr>\n",
       "    <tr>\n",
       "      <th>4</th>\n",
       "      <td>cpu95-19990104-03254</td>\n",
       "      <td>107.mgrid</td>\n",
       "      <td>8.94</td>\n",
       "      <td>9.44</td>\n",
       "    </tr>\n",
       "  </tbody>\n",
       "</table>\n",
       "</div>"
      ],
      "text/plain": [
       "                 testID    benchName   base  peak\n",
       "0  cpu95-19990104-03254  101.tomcatv  19.40  27.1\n",
       "1  cpu95-19990104-03254     102.swim  27.20  34.8\n",
       "2  cpu95-19990104-03254   103.su2cor  10.10  9.98\n",
       "3  cpu95-19990104-03254  104.hydro2d   8.58  8.61\n",
       "4  cpu95-19990104-03254    107.mgrid   8.94  9.44"
      ]
     },
     "execution_count": 489,
     "metadata": {},
     "output_type": "execute_result"
    }
   ],
   "source": [
    "# Load the data\n",
    "\n",
    "datafile = open(\"/Users/johannes/Downloads/specdata20120207 (1)/benchmarks.txt\", \"rt\")\n",
    "datareader =  pd.read_csv(datafile, header = 0)\n",
    "\n",
    "specs = pd.DataFrame(datareader)\n",
    "specs.head()"
   ]
  },
  {
   "cell_type": "code",
   "execution_count": 478,
   "metadata": {},
   "outputs": [],
   "source": [
    "# Clean Data relevant to the current bench mark and cpu we are looking at\n",
    "#the data set is so large that cleaning all of it takes very long. \n",
    "\n",
    "#define which bench mark and cpu to be using\n",
    "benchMark = '107.mgrid' \n",
    "cpu = 'cpu95'\n",
    "\n",
    "CleanDate = []\n",
    "Base = []\n",
    "\n",
    "for entry in range(len(specs['testID'])):\n",
    "    \n",
    "    #filter for the bench mark and the cpu we care about\n",
    "    if cpu == specs['testID'][entry][0:len(cpu)] and benchMark == specs['benchName'][entry]:\n",
    "        \n",
    "        #extract the date from the test ID\n",
    "        dirty_date = re.search('-(.*)-',specs['testID'][entry],re.IGNORECASE).group(1)\n",
    "        \n",
    "        #if the year is given in 19.. or 20.. format use \"%Y%m%d\"\n",
    "        if dirty_date[0] == '1' or dirty_date[0] == '2': \n",
    "            date = datetime.strptime(dirty_date, \"%Y%m%d\").strftime('%s')\n",
    "            CleanDate.append(int(date))\n",
    "        \n",
    "        #if the prefix is missing, we need to use \"%y%m%d\"\n",
    "        else: \n",
    "            date = datetime.strptime(dirty_date, \"%y%m%d\").strftime('%s')\n",
    "            CleanDate.append(int(date))\n",
    "            \n",
    "        ## record the relevant base \n",
    "        ## take the log of it. \n",
    "        Base.append(np.log(specs['base'][entry]))\n",
    "        \n",
    "        \n",
    "#reshap the data to fit with requirements for regression\n",
    "CleanDate = np.array(CleanDate).reshape(-1, 1)\n",
    "Base = np.array(Base).reshape(-1,1)"
   ]
  },
  {
   "cell_type": "code",
   "execution_count": 479,
   "metadata": {},
   "outputs": [
    {
     "name": "stdout",
     "output_type": "stream",
     "text": [
      "Coefficient = 1.5939572573238697e-08.\n",
      "This means every second the base increases by 1.0000000159395728 \n",
      "Or every year, multiplies base by 1.6531298347449226\n",
      "R^2: 0.32251248509312624\n",
      "MSE: 0.9358067650227933\n"
     ]
    },
    {
     "data": {
      "text/plain": [
       "(array([ 2.,  9., 14., 29., 10., 47., 59., 34., 55., 37., 47., 50., 41.,\n",
       "        27., 22., 15., 23., 12.,  5.,  4.]),\n",
       " array([-2.26648606, -2.02943902, -1.79239198, -1.55534494, -1.3182979 ,\n",
       "        -1.08125086, -0.84420382, -0.60715678, -0.37010974, -0.1330627 ,\n",
       "         0.10398434,  0.34103138,  0.57807842,  0.81512547,  1.05217251,\n",
       "         1.28921955,  1.52626659,  1.76331363,  2.00036067,  2.23740771,\n",
       "         2.47445475]),\n",
       " <a list of 20 Patch objects>)"
      ]
     },
     "execution_count": 479,
     "metadata": {},
     "output_type": "execute_result"
    },
    {
     "data": {
      "image/png": "[encoded data removed]",
      "text/plain": [
       "<Figure size 1152x864 with 1 Axes>"
      ]
     },
     "metadata": {
      "needs_background": "light"
     },
     "output_type": "display_data"
    },
    {
     "data": {
      "image/png": "[encoded data removed]",
      "text/plain": [
       "<Figure size 432x288 with 1 Axes>"
      ]
     },
     "metadata": {
      "needs_background": "light"
     },
     "output_type": "display_data"
    }
   ],
   "source": [
    "#initialize the model\n",
    "reg = linear_model.LinearRegression()\n",
    "\n",
    "#fit a linear regression\n",
    "reg.fit(CleanDate, Base)\n",
    "\n",
    "#predict the values\n",
    "predicted = reg.predict(CleanDate)\n",
    "\n",
    "#Get results\n",
    "print(f'Coefficient = {reg.coef_[0][0]}.\\nThis means every second the base increases by {math.e**reg.coef_[0][0]} \\nOr every year, multiplies base by {math.e**(reg.coef_[0][0]*365*24*60*60)}')\n",
    "print(f\"R^2: {reg.score(CleanDate, Base)}\")\n",
    "print(f\"MSE: {mean_squared_error(Base, predicted)}\")\n",
    "\n",
    "#convert the epoch dates back into readable years for plotting\n",
    "yearDates = [datetime.fromtimestamp(time) for time in CleanDate]\n",
    "\n",
    "\n",
    "#plot the results\n",
    "plt.figure(figsize = (16,12))\n",
    "plt.grid()\n",
    "plt.scatter(yearDates, Base, lw = 0.1)\n",
    "plt.plot(yearDates, reg.coef_[0][0]*CleanDate + reg.intercept_, color = 'green', label = f\"Fitted = {round(reg.coef_[0][0]*365*24*60*60, 5)} + {round(reg.intercept_[0], 5)}\", lw = 2)\n",
    "plt.legend(loc = 'lower right')\n",
    "\n",
    "#plot the residuals\n",
    "#plotting residuals helps us to check for the linear regression assumption that errors are normally distributed.\n",
    "plt.figure()\n",
    "plt.hist(Base - predicted, bins = 20)"
   ]
  },
  {
   "cell_type": "markdown",
   "metadata": {},
   "source": [
    "Moore's law states that the number of transistors in a will multiply every year. Colloquially, this has been interpreted as the speed of CPUs will double/increase every year. \n",
    "As shown in this example, the speed multiplies by 1.653 every year.\n",
    "\n",
    "How to make this better: \n",
    "Randomly sample the different CPUs and get development of increases over time. I.e. does a CPU 95 have a bigger coefficient than one from 2006?\n",
    "Get the mean and look at Moore's Law again. "
   ]
  },
  {
   "cell_type": "code",
   "execution_count": 480,
   "metadata": {},
   "outputs": [],
   "source": [
    "import string \n",
    "\n",
    "#combine all cpus and their benchmark\n",
    "combo = []\n",
    "for i in range(len(specs['testID'])):\n",
    "    cpuentry = (specs['testID'][i].split(\"-\")[0])\n",
    "    \n",
    "    #there are some entries starting with \"p...\" that do not include a date in the test ID\n",
    "    #they are somewhat useless.\n",
    "    if cpuentry[0] == 'c':\n",
    "        combo.append(cpuentry + str(\"P\") + specs[\"benchName\"][i])\n",
    "\n",
    "#select all the unique combinations of cpus and benchmarks\n",
    "Different = pd.Series(combo).unique()"
   ]
  },
  {
   "cell_type": "code",
   "execution_count": 481,
   "metadata": {},
   "outputs": [],
   "source": [
    "## define a cleaning function\n",
    "def clean_it(cpu, benchMark):\n",
    "    CleanDate = []\n",
    "    Base = []\n",
    "\n",
    "    for entry in range(len(specs['testID'])):\n",
    "\n",
    "        #filter for the bench mark and the cpu we care about\n",
    "        if cpu == specs['testID'][entry][0:len(cpu)] and benchMark == specs['benchName'][entry]:\n",
    "\n",
    "            #extract the date from the test ID\n",
    "            dirty_date = re.search('-(.*)-',specs['testID'][entry],re.IGNORECASE).group(1)\n",
    "\n",
    "            #if the year is given in 19.. or 20.. format use \"%Y%m%d\"\n",
    "            if dirty_date[0] == '1' or dirty_date[0] == '2': \n",
    "                date = datetime.strptime(dirty_date, \"%Y%m%d\").strftime('%s')\n",
    "                CleanDate.append(int(date))\n",
    "\n",
    "            #if the prefix is missing, we need to use \"%y%m%d\"\n",
    "            else: \n",
    "                date = datetime.strptime(dirty_date, \"%y%m%d\").strftime('%s')\n",
    "                CleanDate.append(int(date))\n",
    "\n",
    "            ## record the relevant base \n",
    "            ## take the log of it. \n",
    "            Base.append(np.log(specs['base'][entry]))  \n",
    "    return CleanDate, Base"
   ]
  },
  {
   "cell_type": "code",
   "execution_count": 482,
   "metadata": {},
   "outputs": [],
   "source": [
    "#record the coefficients\n",
    "multipliers = []\n",
    "year = []\n",
    "\n",
    "#for every unique combination\n",
    "for specification in Different:\n",
    "    \n",
    "    #split the combinations back into cpu and benchmark\n",
    "    seperate = re.split('P', specification)\n",
    "    \n",
    "    #use the cleaning function to clean the data\n",
    "    CleanDate, Base = clean_it(seperate[0], seperate[1])\n",
    "    \n",
    "    ## There are some specs with just one measurement.\n",
    "    #They break the regression\n",
    "    if len(CleanDate) != 0 and len(Base) != 0:\n",
    "        #reshape the data to fit with requirements for regression\n",
    "        CleanDate = np.array(CleanDate).reshape(-1, 1)\n",
    "        Base = np.array(Base).reshape(-1,1)\n",
    "    else: \n",
    "        continue\n",
    "    \n",
    "    #define the linear regression\n",
    "    reg = linear_model.LinearRegression()\n",
    "\n",
    "    #fit a linear regression\n",
    "    reg.fit(CleanDate, Base)\n",
    "    \n",
    "    #record how much the base is multiplied with each year.\n",
    "    #we could record more measures (e.g. R^2), but for sake of Moore's Law, the multiplier is enough\n",
    "    year.append((seperate[0][3:]))\n",
    "    multipliers.append(math.e**(reg.coef_[0][0]*365*24*60*60))"
   ]
  },
  {
   "cell_type": "code",
   "execution_count": 483,
   "metadata": {},
   "outputs": [
    {
     "name": "stdout",
     "output_type": "stream",
     "text": [
      "Mean multiplier 1.3917383932507108\n",
      "95% Confidence Interval: [1.09258698 1.09599756]\n",
      "Minimum multiplier: 1.0923975076481394\n",
      "Regression coefficient of multiplier = year + e: -0.00013049243465417936\n"
     ]
    },
    {
     "data": {
      "image/png": "[encoded data removed]",
      "text/plain": [
       "<Figure size 432x288 with 1 Axes>"
      ]
     },
     "metadata": {
      "needs_background": "light"
     },
     "output_type": "display_data"
    },
    {
     "data": {
      "image/png": "[encoded data removed]",
      "text/plain": [
       "<Figure size 432x288 with 1 Axes>"
      ]
     },
     "metadata": {
      "needs_background": "light"
     },
     "output_type": "display_data"
    }
   ],
   "source": [
    "#plot the distribution\n",
    "plt.hist(multipliers,15)\n",
    "\n",
    "years =[]\n",
    "\n",
    "for dirty_year in year:\n",
    "    if dirty_year[0] == '1' or dirty_year[0] == '2': \n",
    "        date = datetime.strptime(dirty_year, \"%Y\").strftime('%Y')\n",
    "        years.append(int(date))\n",
    "\n",
    "        #if the prefix is missing, we need to use \"%y%m%d\"\n",
    "    else: \n",
    "        date = datetime.strptime(dirty_year, \"%y\").strftime('%Y')\n",
    "        years.append(int(date))\n",
    "\n",
    "#find the mean and confidence interval\n",
    "plt.figure()\n",
    "print(f\"Mean multiplier {np.mean(multipliers)}\")\n",
    "plt.scatter(years, multipliers)\n",
    "plt.xlabel(\"Year of CPU\")\n",
    "plt.ylabel(\"Multiplier\")\n",
    "print(f\"95% Confidence Interval: {np.percentile(multipliers, (0.05, 0.95))}\")\n",
    "print(f\"Minimum multiplier: {min(multipliers)}\")\n",
    "\n",
    "#estimating the change in multiplier per year\n",
    "reg = reg = linear_model.LinearRegression()\n",
    "\n",
    "#fit a linear regression\n",
    "reg.fit((np.array(year).astype(np.float64)).reshape(-1,1), (np.array(multipliers).astype(np.float64)).reshape(-1,1))\n",
    "\n",
    "print(f\"Regression coefficient of multiplier = year + e: {reg.coef_[0][0]}\")"
   ]
  },
  {
   "cell_type": "markdown",
   "metadata": {},
   "source": [
    "With the minimum multiplier being > 1, we see an increase in all the different combinations and specifications. They are distributed with higher multipliers being less likely then higher ones. From the graph of years vs. multiplier it appears like the rate of improvement has been decreasing. However, running a quick linear regression (heavily influence by the high outliers in 2006) reveals that this trend is almost non-existent. \n",
    "\n",
    "#### Ultimately\n",
    "Moore does seem to be right that we will improve our computational speeds."
   ]
  },
  {
   "cell_type": "markdown",
   "metadata": {},
   "source": [
    "## MNIST Digits"
   ]
  },
  {
   "cell_type": "code",
   "execution_count": 485,
   "metadata": {},
   "outputs": [
    {
     "data": {
      "image/png": "[encoded data removed]",
      "text/plain": [
       "<Figure size 720x720 with 16 Axes>"
      ]
     },
     "metadata": {
      "needs_background": "light"
     },
     "output_type": "display_data"
    }
   ],
   "source": [
    "## Load the dataset + visualize some of the dataset\n",
    "\n",
    "digits = load_digits()\n",
    "\n",
    "\n",
    "#configure the subplots\n",
    "fig, axs = plt.subplots(4,4, figsize=(10,10))\n",
    "fig.subplots_adjust(hspace = .5, wspace=.001)\n",
    "\n",
    "axs = axs.ravel()\n",
    "\n",
    "#plot 16 different examples with their target number on top.\n",
    "for i in range(16):\n",
    "    rd.seed(i)\n",
    "    access = rd.randint(0,len(digits.images))\n",
    "    axs[i].matshow(digits.images[access])\n",
    "    axs[i].set_title(f\"Target Number: {digits.target[access]} \\n\")"
   ]
  },
  {
   "cell_type": "code",
   "execution_count": 486,
   "metadata": {},
   "outputs": [],
   "source": [
    "## Use a KNN classifier\n",
    "\n",
    "def knn_with_cross_val(dataset, targetNumbers):\n",
    "    \n",
    "    \"\"\"\n",
    "    func: knn_with_cross_val\n",
    "    input:   - dataset: in our case the digits dataset \n",
    "             - targetNumbers: list of numbers to be classified. E.g. [1, 7]\n",
    "    \n",
    "    \"\"\"\n",
    "    print(f\"Identifying Numbers {targetNumbers}\")\n",
    "    \n",
    "    #filter out the input and targets for the selected numbers\n",
    "    info = []\n",
    "    targets = []\n",
    "    \n",
    "    #go through each digit: \n",
    "    for i in range(len(dataset.data)):\n",
    "        \n",
    "        #if the target is one of the numbers\n",
    "        if digits.target[i] in targetNumbers:\n",
    "            \n",
    "            #add its info and the target to the input and target list\n",
    "            info.append(dataset.data[i])\n",
    "            targets.append(dataset.target[i])\n",
    "            \n",
    "    # split data \n",
    "    (info_train, info_test, target_train, target_test) = train_test_split(info,\n",
    "        targets, test_size=0.15, random_state=42)\n",
    "\n",
    "    #initialize the parameters\n",
    "    k_score = 0\n",
    "    max_score = -1\n",
    "    k_testing = 0\n",
    "    \n",
    "    \n",
    "    #iterate over different ks until there is no improvement\n",
    "    while max_score < k_score:\n",
    "\n",
    "        #update the max score\n",
    "        max_score = k_score\n",
    "        \n",
    "        #increase potential k \n",
    "        k_testing += 1\n",
    "        \n",
    "        #create k nearest neighbor classifier\n",
    "        validation = KNeighborsClassifier(n_neighbors = k_testing)\n",
    "        #train the model\n",
    "        validation.fit(info_train, target_train)\n",
    "\n",
    "        #Cross validate with Leave one out (by setting the number of folds to the length of the data set)\n",
    "        score = cross_val_score(validation, info_train, target_train, cv = 20)\n",
    "        \n",
    "        #Calculate and output score to the current max score\n",
    "        k_score = np.mean(score)\n",
    "        print(f\"Using {k_testing} neighbor has cross-val score = {k_score}\")\n",
    "    \n",
    "    #go back to the best k (assumption of unimodal optimal k)\n",
    "    k_testing -= 1\n",
    "    print(f\"We will be using {k_testing} neighbors with mean cross-validation score {k_score}\") \n",
    "    \n",
    "    #using the best k\n",
    "    max_score_k = k_testing\n",
    "\n",
    "    #re-train the model with the best k\n",
    "    knn_train_model = KNeighborsClassifier(n_neighbors = max_score_k)\n",
    "    knn_train_model.fit(info_train, target_train)\n",
    "\n",
    "    #make predictions on the test data\n",
    "    target_pred = knn_train_model.predict(info_test)\n",
    "    \n",
    "    \n",
    "    # a report of performance on the test set\n",
    "    print(f'\\n Using the test data we report:')\n",
    "    print(classification_report(target_test, target_pred))\n",
    "    \n",
    "    # Plot confusion matrix\n",
    "    sns.heatmap(confusion_matrix(target_test, target_pred),annot=True,cbar=True)\n",
    "    plt.ylabel('True Label')\n",
    "    plt.xlabel('Predicted Label')\n",
    "\n",
    "\n",
    "    return \"Done.\""
   ]
  },
  {
   "cell_type": "code",
   "execution_count": 487,
   "metadata": {},
   "outputs": [
    {
     "name": "stdout",
     "output_type": "stream",
     "text": [
      "Identifying Numbers [0, 1, 2, 3, 4, 5, 6, 7, 8, 9]\n",
      "Using 1 neighbor has cross-val score = 0.9887336140574536\n",
      "Using 2 neighbor has cross-val score = 0.9867603645196501\n",
      "We will be using 1 neighbors with mean cross-validation score 0.9867603645196501\n",
      "\n",
      " Using the test data we report:\n",
      "              precision    recall  f1-score   support\n",
      "\n",
      "           0       1.00      1.00      1.00        23\n",
      "           1       0.90      1.00      0.95        18\n",
      "           2       1.00      1.00      1.00        26\n",
      "           3       0.96      1.00      0.98        24\n",
      "           4       0.97      0.97      0.97        37\n",
      "           5       0.97      1.00      0.99        33\n",
      "           6       1.00      1.00      1.00        30\n",
      "           7       1.00      0.96      0.98        26\n",
      "           8       1.00      0.89      0.94        19\n",
      "           9       0.94      0.91      0.93        34\n",
      "\n",
      "    accuracy                           0.97       270\n",
      "   macro avg       0.97      0.97      0.97       270\n",
      "weighted avg       0.97      0.97      0.97       270\n",
      "\n",
      "Done.\n"
     ]
    },
    {
     "data": {
      "image/png": "[encoded data removed]",
      "text/plain": [
       "<Figure size 432x288 with 2 Axes>"
      ]
     },
     "metadata": {
      "needs_background": "light"
     },
     "output_type": "display_data"
    }
   ],
   "source": [
    "#run the function with all the digits\n",
    "print(knn_with_cross_val(digits, [0,1,2,3,4,5,6,7,8,9]))"
   ]
  },
  {
   "cell_type": "markdown",
   "metadata": {},
   "source": [
    "As shown in the confusion matrix, the overall hardest to classify number is 9 with the f1 score of 0.93 (combination of recall and precision). \"1\", has the worst precision score (i.e., with 10% of 1s wrongly as being a 1). This is, however driven by the fact that there are only 18 of them. Number 9, overall, does worse especially because only 91% of 9s are identified as being a 9."
   ]
  },
  {
   "cell_type": "code",
   "execution_count": null,
   "metadata": {},
   "outputs": [],
   "source": []
  }
 ],
 "metadata": {
  "kernelspec": {
   "display_name": "Python 3",
   "language": "python",
   "name": "python3"
  },
  "language_info": {
   "codemirror_mode": {
    "name": "ipython",
    "version": 3
   },
   "file_extension": ".py",
   "mimetype": "text/x-python",
   "name": "python",
   "nbconvert_exporter": "python",
   "pygments_lexer": "ipython3",
   "version": "3.7.3"
  }
 },
 "nbformat": 4,
 "nbformat_minor": 2
}
